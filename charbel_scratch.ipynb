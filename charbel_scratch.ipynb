version https://git-lfs.github.com/spec/v1
oid sha256:8610d41dd4746d9add240456e8c022d39ff579372d9693351e3a5fd92d6bb5ac
size 12967
