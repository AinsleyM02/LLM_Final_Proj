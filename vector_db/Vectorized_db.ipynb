version https://git-lfs.github.com/spec/v1
oid sha256:a9283963b67a76b2a64746199b65256e1e31d121b565adcfea8fb20e8c8c8edb
size 1068253
